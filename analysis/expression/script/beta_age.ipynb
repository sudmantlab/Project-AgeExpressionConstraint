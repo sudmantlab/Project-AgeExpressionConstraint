{
 "cells": [
  {
   "attachments": {},
   "cell_type": "markdown",
   "metadata": {},
   "source": [
    "## Beta_age Analysis"
   ]
  },
  {
   "attachments": {},
   "cell_type": "markdown",
   "metadata": {},
   "source": [
    "Calculate normalized beta_age values for TabulaMurisSenis mouse facs gene expression data. Modify counter to iterate through all 23 tissues. "
   ]
  },
  {
   "cell_type": "code",
   "execution_count": 501,
   "metadata": {},
   "outputs": [],
   "source": [
    "counter = 22"
   ]
  },
  {
   "cell_type": "code",
   "execution_count": 502,
   "metadata": {},
   "outputs": [],
   "source": [
    "import pandas as pd\n",
    "import math\n",
    "import statistics\n",
    "import numpy as np\n",
    "import os\n",
    "import operator as op\n",
    "\n",
    "# Work with transcriptomic data (h5ad files)\n",
    "import scanpy as sc # (conda environment connected to kernel)\n",
    "import anndata\n",
    "import h5py\n",
    "import json\n",
    "\n",
    "# Spearman and Pearson Correlation Rank and Linear Regression\n",
    "from scipy.stats import pearsonr\n",
    "from scipy.stats import spearmanr\n",
    "from scipy.stats import linregress"
   ]
  },
  {
   "cell_type": "markdown",
   "metadata": {},
   "source": [
    "Load analysis-expression configfile"
   ]
  },
  {
   "cell_type": "code",
   "execution_count": 503,
   "metadata": {},
   "outputs": [],
   "source": [
    "configfile = \"/global/home/users/pstein/Project-AgeExpressionConstraint/analysis/expression/config.json\"\n",
    "with open(configfile, \"r\") as f:\n",
    "        config = json.load(f)"
   ]
  },
  {
   "cell_type": "code",
   "execution_count": 504,
   "metadata": {},
   "outputs": [],
   "source": [
    "input_directory = config[\"TabulaMurisSenis\"]\n",
    "process_directory = config['beta_age']"
   ]
  },
  {
   "cell_type": "code",
   "execution_count": 505,
   "metadata": {},
   "outputs": [],
   "source": [
    "tissues = []\n",
    "tissue_files = []\n",
    "\n",
    "for root, directories, filenames in os.walk(input_directory):\n",
    "    for filename in filenames:\n",
    "        # print(filename)\n",
    "        tissue_files.append(filename)\n",
    "        tissues.append(filename.split('-')[-1].split('.')[0])\n",
    "        fpath = os.path.join(root,filename)"
   ]
  },
  {
   "cell_type": "code",
   "execution_count": 506,
   "metadata": {},
   "outputs": [
    {
     "data": {
      "text/plain": [
       "'tabula-muris-senis-facs-processed-official-annotations-GAT.h5ad'"
      ]
     },
     "execution_count": 506,
     "metadata": {},
     "output_type": "execute_result"
    }
   ],
   "source": [
    "tissue_file_name = tissue_files[counter]\n",
    "tissue_file_name"
   ]
  },
  {
   "cell_type": "code",
   "execution_count": 507,
   "metadata": {
    "scrolled": true
   },
   "outputs": [
    {
     "data": {
      "text/plain": [
       "'GAT'"
      ]
     },
     "execution_count": 507,
     "metadata": {},
     "output_type": "execute_result"
    }
   ],
   "source": [
    "tissue = tissue_file_name.split('-')[-1].split('.')[0]\n",
    "tissue"
   ]
  },
  {
   "cell_type": "code",
   "execution_count": 508,
   "metadata": {
    "scrolled": true
   },
   "outputs": [
    {
     "name": "stderr",
     "output_type": "stream",
     "text": [
      "/global/home/users/pstein/.conda/envs/my-env/lib/python3.10/site-packages/anndata/compat/__init__.py:232: FutureWarning: Moving element from .uns['neighbors']['distances'] to .obsp['distances'].\n",
      "\n",
      "This is where adjacency matrices should go now.\n",
      "  warn(\n",
      "/global/home/users/pstein/.conda/envs/my-env/lib/python3.10/site-packages/anndata/compat/__init__.py:232: FutureWarning: Moving element from .uns['neighbors']['connectivities'] to .obsp['connectivities'].\n",
      "\n",
      "This is where adjacency matrices should go now.\n",
      "  warn(\n"
     ]
    }
   ],
   "source": [
    "# AnnData object (X, obs, vars)\n",
    "tissue_file = sc.read_h5ad(filename = input_directory + tissue_file_name)"
   ]
  },
  {
   "cell_type": "code",
   "execution_count": 509,
   "metadata": {},
   "outputs": [],
   "source": [
    "# make gene expression data a df\n",
    "tissue_data = tissue_file.to_df()"
   ]
  },
  {
   "cell_type": "markdown",
   "metadata": {},
   "source": [
    "### Filter and Normalize Age"
   ]
  },
  {
   "cell_type": "code",
   "execution_count": 510,
   "metadata": {
    "scrolled": false
   },
   "outputs": [
    {
     "data": {
      "text/plain": [
       "mesenchymal stem cell of adipose    1562\n",
       "myeloid cell                         718\n",
       "endothelial cell                     341\n",
       "B cell                               316\n",
       "CD4-positive, alpha-beta T cell      140\n",
       "CD8-positive, alpha-beta T cell      129\n",
       "T cell                                84\n",
       "epithelial cell                       63\n",
       "NK cell                               53\n",
       "Name: cell_ontology_class, dtype: int64"
      ]
     },
     "execution_count": 510,
     "metadata": {},
     "output_type": "execute_result"
    }
   ],
   "source": [
    "tissue_file.obs['cell_ontology_class'].value_counts()"
   ]
  },
  {
   "cell_type": "markdown",
   "metadata": {},
   "source": [
    "1. Remove rows (cell types) with only 1 age category (cannot perform regression on one category).\n",
    "2. Filter for two age categories: 3m (young) & 24m (aged), remove 18m"
   ]
  },
  {
   "cell_type": "code",
   "execution_count": 511,
   "metadata": {},
   "outputs": [],
   "source": [
    "# Dictionary of cell types were there is only one age category (either before or filtering for 3m and 24m)\n",
    "bad_cells = config[\"bad_cells\"]"
   ]
  },
  {
   "cell_type": "code",
   "execution_count": 512,
   "metadata": {},
   "outputs": [],
   "source": [
    "if op.contains(bad_cells, tissue) == True:\n",
    "    filter_cell = tissue_file.obs['cell_ontology_class'].isin(bad_cells[tissue]) # check which cell types affected in tissue\n",
    "    tissue_data_filtered_cell = tissue_data[~filter_cell] # subset data to all but bad celltype\n",
    "    tissue_meta_filtered_cell = tissue_file.obs[~filter_cell] # subset metadata to all but bad celltype\n",
    "    filter_age = tissue_meta_filtered_cell['age'] != '18m' # remove all 18m aged rows\n",
    "    tissue_data_filtered_age = tissue_data_filtered_cell[filter_age] \n",
    "    tissue_meta_filtered_age = tissue_meta_filtered_cell[filter_age]\n",
    "else:\n",
    "    filter_age = tissue_file.obs['age'] != '18m'\n",
    "    tissue_data_filtered_age = tissue_data[filter_age]\n",
    "    tissue_meta_filtered_age = tissue_file.obs[filter_age]"
   ]
  },
  {
   "cell_type": "markdown",
   "metadata": {},
   "source": [
    "3. norm age data: 3m -> 0, 24m (&21m) -> 1"
   ]
  },
  {
   "cell_type": "code",
   "execution_count": 513,
   "metadata": {},
   "outputs": [],
   "source": [
    "# Dict for norming age categories \n",
    "age_norm = {'3m': 0, '21m': 1, '24m': 1}"
   ]
  },
  {
   "cell_type": "code",
   "execution_count": 514,
   "metadata": {
    "scrolled": true
   },
   "outputs": [
    {
     "name": "stderr",
     "output_type": "stream",
     "text": [
      "/tmp/ipykernel_170894/1281253903.py:1: SettingWithCopyWarning: \n",
      "A value is trying to be set on a copy of a slice from a DataFrame.\n",
      "Try using .loc[row_indexer,col_indexer] = value instead\n",
      "\n",
      "See the caveats in the documentation: https://pandas.pydata.org/pandas-docs/stable/user_guide/indexing.html#returning-a-view-versus-a-copy\n",
      "  tissue_meta_filtered_age['age_norm'] = tissue_meta_filtered_age.loc[:,'age']\n"
     ]
    }
   ],
   "source": [
    "tissue_meta_filtered_age['age_norm'] = tissue_meta_filtered_age.loc[:,'age']"
   ]
  },
  {
   "cell_type": "code",
   "execution_count": 515,
   "metadata": {},
   "outputs": [],
   "source": [
    "tissue_meta_filtered_age = tissue_meta_filtered_age.replace({\"age_norm\": age_norm})"
   ]
  },
  {
   "cell_type": "code",
   "execution_count": 516,
   "metadata": {},
   "outputs": [
    {
     "data": {
      "text/plain": [
       "age_norm\n",
       "0      1464\n",
       "18m       0\n",
       "1      1067\n",
       "dtype: int64"
      ]
     },
     "execution_count": 516,
     "metadata": {},
     "output_type": "execute_result"
    }
   ],
   "source": [
    "tissue_meta_filtered_age.groupby(\"age_norm\").size()"
   ]
  },
  {
   "cell_type": "markdown",
   "metadata": {},
   "source": [
    "### Automated beta_age Analysis "
   ]
  },
  {
   "cell_type": "markdown",
   "metadata": {},
   "source": [
    "1. Standardize gene expression data: remove all genes with no gene expression values across all samples\n",
    "2. Z-score normalize genexpression data per gene \n",
    "3. Run linear regression and pearson correlation for age vs expression"
   ]
  },
  {
   "cell_type": "code",
   "execution_count": 517,
   "metadata": {},
   "outputs": [],
   "source": [
    "gene_names = []\n",
    "cell_types = []\n",
    "rho = []\n",
    "pval = []\n",
    "linreg_slope = []"
   ]
  },
  {
   "cell_type": "code",
   "execution_count": null,
   "metadata": {},
   "outputs": [],
   "source": [
    "for cell in tissue_meta_filtered_age['cell_ontology_class'].unique(): \n",
    "    ## subset data for the desired cell type \n",
    "    # subset cell type in metadata\n",
    "    cell_type = tissue_meta_filtered_age['cell_ontology_class'] == cell\n",
    "    # get age data\n",
    "    cell_type_age = np.array(tissue_meta_filtered_age[cell_type]['age_norm'])\n",
    "    # subset cell type in gene expression data \n",
    "    cell_type_data = tissue_data_filtered_age[cell_type]\n",
    "\n",
    "    ## standardize \n",
    "    cell_type_data = cell_type_data.loc[:, (cell_type_data.sum(axis=0) != 0)]\n",
    "    # z-score normalize\n",
    "    cell_type_data = (cell_type_data - cell_type_data.mean()) / cell_type_data.std()\n",
    "    # remove genes with nan z-score normalization because all gene expression values are exactly the same\n",
    "    cell_type_data = cell_type_data.loc[:,~cell_type_data.isnull().any()]\n",
    "    \n",
    "    ## get regression data\n",
    "    # itterate through each subset df\n",
    "    for gene in np.array(cell_type_data.columns):\n",
    "        cell_types.append(cell)\n",
    "        gene_names.append(gene)\n",
    "        pearson = pearsonr(cell_type_age.astype(float), np.array(cell_type_data[gene]))\n",
    "        rho.append(pearson[0])\n",
    "        regression = linregress(cell_type_age.astype(float), np.array(cell_type_data[gene]))\n",
    "        linreg_slope.append(regression[0])\n",
    "        pval.append(regression[3])"
   ]
  },
  {
   "cell_type": "markdown",
   "metadata": {},
   "source": [
    "Format Data"
   ]
  },
  {
   "cell_type": "code",
   "execution_count": null,
   "metadata": {},
   "outputs": [],
   "source": [
    "tissue_analysis = pd.DataFrame(\n",
    "    {\n",
    "        'gene': gene_names,\n",
    "        'tissue': [tissue] * len(gene_names),\n",
    "        'cell_type': cell_types,\n",
    "        'rho': rho,\n",
    "        'beta': linreg_slope,\n",
    "        'p_value': pval\n",
    "        }\n",
    "    )"
   ]
  },
  {
   "cell_type": "code",
   "execution_count": null,
   "metadata": {},
   "outputs": [],
   "source": [
    "tissue_analysis.head()"
   ]
  },
  {
   "cell_type": "code",
   "execution_count": null,
   "metadata": {},
   "outputs": [],
   "source": [
    "# extension if normalizing data\n",
    "filter_condition = '_age_expression_normed'"
   ]
  },
  {
   "cell_type": "code",
   "execution_count": null,
   "metadata": {},
   "outputs": [],
   "source": [
    "tissue_csv = tissue_analysis.to_csv(process_directory + tissue + filter_condition + '.csv')"
   ]
  }
 ],
 "metadata": {
  "kernelspec": {
   "display_name": "scanpy3.6",
   "language": "python",
   "name": "scanpy36"
  },
  "language_info": {
   "codemirror_mode": {
    "name": "ipython",
    "version": 3
   },
   "file_extension": ".py",
   "mimetype": "text/x-python",
   "name": "python",
   "nbconvert_exporter": "python",
   "pygments_lexer": "ipython3",
   "version": "3.10.6"
  }
 },
 "nbformat": 4,
 "nbformat_minor": 2
}
