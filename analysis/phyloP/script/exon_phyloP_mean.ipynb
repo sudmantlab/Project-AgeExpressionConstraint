{
 "cells": [
  {
   "cell_type": "markdown",
   "metadata": {},
   "source": [
    "# PhyloP_mean Analysis \n",
    "\n",
    "Calculate mean phyloP score across exons per gene for mouse. "
   ]
  },
  {
   "cell_type": "code",
   "execution_count": 2,
   "metadata": {},
   "outputs": [],
   "source": [
    "import numpy as np\n",
    "import pandas as pd\n",
    "import json\n",
    "import matplotlib.pyplot as plt\n",
    "%matplotlib inline\n",
    "\n",
    "# work with .bw files\n",
    "import pyBigWig"
   ]
  },
  {
   "cell_type": "markdown",
   "metadata": {},
   "source": [
    "### Big Wig PhyloP Data"
   ]
  },
  {
   "cell_type": "code",
   "execution_count": 3,
   "metadata": {},
   "outputs": [],
   "source": [
    "configfile = \"/Users/philippasteinberg/Desktop/Project-AgeExpressionConstraint/analysis/phyloP/config.json\"\n",
    "with open(configfile, \"r\") as f:\n",
    "        config = json.load(f)"
   ]
  },
  {
   "cell_type": "code",
   "execution_count": 4,
   "metadata": {},
   "outputs": [],
   "source": [
    "phylo_scores = pyBigWig.open(config[\"Mouse_PhyloP\"])"
   ]
  },
  {
   "cell_type": "code",
   "execution_count": 5,
   "metadata": {
    "scrolled": true
   },
   "outputs": [
    {
     "name": "stderr",
     "output_type": "stream",
     "text": [
      "/var/folders/d1/dp74_hnj4c9094cn6b99t92r0000gn/T/ipykernel_30518/1391697778.py:1: DtypeWarning: Columns (10) have mixed types. Specify dtype option on import or set low_memory=False.\n",
      "  mus_coor = pd.read_csv(config[\"knownGene\"], header = None, sep = \"\\t\")\n"
     ]
    }
   ],
   "source": [
    "mus_coor = pd.read_csv(config[\"knownGene\"], header = None, sep = \"\\t\")"
   ]
  },
  {
   "cell_type": "code",
   "execution_count": 6,
   "metadata": {},
   "outputs": [],
   "source": [
    "mus_coor = mus_coor.rename(\n",
    "    columns={\n",
    "        0:\"names\", \n",
    "        1:\"chrom\", \n",
    "        2:\"strand\", \n",
    "        3:\"txStart\", \n",
    "        4:\"txEnd\", \n",
    "        5:\"cdsStart\", \n",
    "        6:\"cdsEnd\", \n",
    "        7:\"exonCount\", \n",
    "        8:\"exonStarts\", \n",
    "        9:\"exonEnds\", \n",
    "        10:\"proteinID\", \n",
    "        11:\"alignID\"\n",
    "        }\n",
    "    )"
   ]
  },
  {
   "cell_type": "code",
   "execution_count": 7,
   "metadata": {},
   "outputs": [
    {
     "data": {
      "text/html": [
       "<div>\n",
       "<style scoped>\n",
       "    .dataframe tbody tr th:only-of-type {\n",
       "        vertical-align: middle;\n",
       "    }\n",
       "\n",
       "    .dataframe tbody tr th {\n",
       "        vertical-align: top;\n",
       "    }\n",
       "\n",
       "    .dataframe thead th {\n",
       "        text-align: right;\n",
       "    }\n",
       "</style>\n",
       "<table border=\"1\" class=\"dataframe\">\n",
       "  <thead>\n",
       "    <tr style=\"text-align: right;\">\n",
       "      <th></th>\n",
       "      <th>names</th>\n",
       "      <th>chrom</th>\n",
       "      <th>strand</th>\n",
       "      <th>txStart</th>\n",
       "      <th>txEnd</th>\n",
       "      <th>cdsStart</th>\n",
       "      <th>cdsEnd</th>\n",
       "      <th>exonCount</th>\n",
       "      <th>exonStarts</th>\n",
       "      <th>exonEnds</th>\n",
       "      <th>proteinID</th>\n",
       "      <th>alignID</th>\n",
       "    </tr>\n",
       "  </thead>\n",
       "  <tbody>\n",
       "    <tr>\n",
       "      <th>0</th>\n",
       "      <td>ENSMUST00000193812.1</td>\n",
       "      <td>chr1</td>\n",
       "      <td>+</td>\n",
       "      <td>3073252</td>\n",
       "      <td>3074322</td>\n",
       "      <td>3073252</td>\n",
       "      <td>3073252</td>\n",
       "      <td>1</td>\n",
       "      <td>3073252,</td>\n",
       "      <td>3074322,</td>\n",
       "      <td>NaN</td>\n",
       "      <td>uc287gdb.1</td>\n",
       "    </tr>\n",
       "    <tr>\n",
       "      <th>1</th>\n",
       "      <td>ENSMUST00000082908.1</td>\n",
       "      <td>chr1</td>\n",
       "      <td>+</td>\n",
       "      <td>3102015</td>\n",
       "      <td>3102125</td>\n",
       "      <td>3102015</td>\n",
       "      <td>3102015</td>\n",
       "      <td>1</td>\n",
       "      <td>3102015,</td>\n",
       "      <td>3102125,</td>\n",
       "      <td>NaN</td>\n",
       "      <td>uc287gdc.1</td>\n",
       "    </tr>\n",
       "    <tr>\n",
       "      <th>2</th>\n",
       "      <td>ENSMUST00000162897.1</td>\n",
       "      <td>chr1</td>\n",
       "      <td>-</td>\n",
       "      <td>3205900</td>\n",
       "      <td>3216344</td>\n",
       "      <td>3205900</td>\n",
       "      <td>3205900</td>\n",
       "      <td>2</td>\n",
       "      <td>3205900,3213608,</td>\n",
       "      <td>3207317,3216344,</td>\n",
       "      <td>NaN</td>\n",
       "      <td>uc287gdd.1</td>\n",
       "    </tr>\n",
       "    <tr>\n",
       "      <th>3</th>\n",
       "      <td>ENSMUST00000159265.1</td>\n",
       "      <td>chr1</td>\n",
       "      <td>-</td>\n",
       "      <td>3206522</td>\n",
       "      <td>3215632</td>\n",
       "      <td>3206522</td>\n",
       "      <td>3206522</td>\n",
       "      <td>2</td>\n",
       "      <td>3206522,3213438,</td>\n",
       "      <td>3207317,3215632,</td>\n",
       "      <td>NaN</td>\n",
       "      <td>uc007aet.2</td>\n",
       "    </tr>\n",
       "    <tr>\n",
       "      <th>4</th>\n",
       "      <td>ENSMUST00000070533.4</td>\n",
       "      <td>chr1</td>\n",
       "      <td>-</td>\n",
       "      <td>3214481</td>\n",
       "      <td>3671498</td>\n",
       "      <td>3216021</td>\n",
       "      <td>3671348</td>\n",
       "      <td>3</td>\n",
       "      <td>3214481,3421701,3670551,</td>\n",
       "      <td>3216968,3421901,3671498,</td>\n",
       "      <td>Q5GH67</td>\n",
       "      <td>uc007aeu.1</td>\n",
       "    </tr>\n",
       "  </tbody>\n",
       "</table>\n",
       "</div>"
      ],
      "text/plain": [
       "                  names chrom strand  txStart    txEnd  cdsStart   cdsEnd  \\\n",
       "0  ENSMUST00000193812.1  chr1      +  3073252  3074322   3073252  3073252   \n",
       "1  ENSMUST00000082908.1  chr1      +  3102015  3102125   3102015  3102015   \n",
       "2  ENSMUST00000162897.1  chr1      -  3205900  3216344   3205900  3205900   \n",
       "3  ENSMUST00000159265.1  chr1      -  3206522  3215632   3206522  3206522   \n",
       "4  ENSMUST00000070533.4  chr1      -  3214481  3671498   3216021  3671348   \n",
       "\n",
       "   exonCount                exonStarts                  exonEnds proteinID  \\\n",
       "0          1                  3073252,                  3074322,       NaN   \n",
       "1          1                  3102015,                  3102125,       NaN   \n",
       "2          2          3205900,3213608,          3207317,3216344,       NaN   \n",
       "3          2          3206522,3213438,          3207317,3215632,       NaN   \n",
       "4          3  3214481,3421701,3670551,  3216968,3421901,3671498,    Q5GH67   \n",
       "\n",
       "      alignID  \n",
       "0  uc287gdb.1  \n",
       "1  uc287gdc.1  \n",
       "2  uc287gdd.1  \n",
       "3  uc007aet.2  \n",
       "4  uc007aeu.1  "
      ]
     },
     "execution_count": 7,
     "metadata": {},
     "output_type": "execute_result"
    }
   ],
   "source": [
    "mus_coor.head()"
   ]
  },
  {
   "cell_type": "markdown",
   "metadata": {},
   "source": [
    "## Calculate PhyloP score mean across all exons per gene"
   ]
  },
  {
   "cell_type": "code",
   "execution_count": 8,
   "metadata": {},
   "outputs": [],
   "source": [
    "chrs = []\n",
    "gene = []   \n",
    "start = []   \n",
    "end = []   \n",
    "phyloP = [] "
   ]
  },
  {
   "cell_type": "code",
   "execution_count": 9,
   "metadata": {},
   "outputs": [],
   "source": [
    "for i in np.arange(len(mus_coor)):\n",
    "    chrs.append(mus_coor[\"chrom\"][i])\n",
    "    gene.append(mus_coor[\"names\"][i])  \n",
    "        \n",
    "    start = [int(i) for i in mus_coor[\"exonStarts\"][i].split(\",\")[0:-1]]\n",
    "    end = [int(i) for i in mus_coor[\"exonEnds\"][i].split(\",\")[0:-1]]\n",
    "    # use bw tools to get phyloP score for all exon per gene\n",
    "    exons = [phylo_scores.stats(mus_coor[\"chrom\"][i], start[i], end[i], exact=True) for i in np.arange(len(start))]\n",
    "\n",
    "    # print(i)\n",
    "    # print(\"start\", start)\n",
    "    # print(\"end\", end)\n",
    "    # print(\"exons\", exons)\n",
    "\n",
    "    # removing all the none values (no phyloP score for exon)\n",
    "    res = [j for j in exons if j[0]]\n",
    "    # print(\"res\", res)\n",
    "    \n",
    "    if res:\n",
    "        # calculate mean across exons per gene ID\n",
    "        phyloP.append(np.mean(res))\n",
    "    else:\n",
    "        # add \"None\" back to account for different lengths of arrays\n",
    "        phyloP.append(None)"
   ]
  },
  {
   "cell_type": "code",
   "execution_count": 11,
   "metadata": {},
   "outputs": [
    {
     "data": {
      "text/html": [
       "<div>\n",
       "<style scoped>\n",
       "    .dataframe tbody tr th:only-of-type {\n",
       "        vertical-align: middle;\n",
       "    }\n",
       "\n",
       "    .dataframe tbody tr th {\n",
       "        vertical-align: top;\n",
       "    }\n",
       "\n",
       "    .dataframe thead th {\n",
       "        text-align: right;\n",
       "    }\n",
       "</style>\n",
       "<table border=\"1\" class=\"dataframe\">\n",
       "  <thead>\n",
       "    <tr style=\"text-align: right;\">\n",
       "      <th></th>\n",
       "      <th>Chromosome name</th>\n",
       "      <th>Transcript stable ID</th>\n",
       "      <th>Transcript stable ID version</th>\n",
       "      <th>Mouse exon phyloP mean</th>\n",
       "    </tr>\n",
       "  </thead>\n",
       "  <tbody>\n",
       "    <tr>\n",
       "      <th>0</th>\n",
       "      <td>chr1</td>\n",
       "      <td>ENSMUST00000193812</td>\n",
       "      <td>ENSMUST00000193812.1</td>\n",
       "      <td>0.230201</td>\n",
       "    </tr>\n",
       "    <tr>\n",
       "      <th>1</th>\n",
       "      <td>chr1</td>\n",
       "      <td>ENSMUST00000082908</td>\n",
       "      <td>ENSMUST00000082908.1</td>\n",
       "      <td>0.027273</td>\n",
       "    </tr>\n",
       "    <tr>\n",
       "      <th>2</th>\n",
       "      <td>chr1</td>\n",
       "      <td>ENSMUST00000162897</td>\n",
       "      <td>ENSMUST00000162897.1</td>\n",
       "      <td>0.777432</td>\n",
       "    </tr>\n",
       "    <tr>\n",
       "      <th>3</th>\n",
       "      <td>chr1</td>\n",
       "      <td>ENSMUST00000159265</td>\n",
       "      <td>ENSMUST00000159265.1</td>\n",
       "      <td>0.778998</td>\n",
       "    </tr>\n",
       "    <tr>\n",
       "      <th>4</th>\n",
       "      <td>chr1</td>\n",
       "      <td>ENSMUST00000070533</td>\n",
       "      <td>ENSMUST00000070533.4</td>\n",
       "      <td>2.710427</td>\n",
       "    </tr>\n",
       "  </tbody>\n",
       "</table>\n",
       "</div>"
      ],
      "text/plain": [
       "  Chromosome name Transcript stable ID Transcript stable ID version  \\\n",
       "0            chr1   ENSMUST00000193812         ENSMUST00000193812.1   \n",
       "1            chr1   ENSMUST00000082908         ENSMUST00000082908.1   \n",
       "2            chr1   ENSMUST00000162897         ENSMUST00000162897.1   \n",
       "3            chr1   ENSMUST00000159265         ENSMUST00000159265.1   \n",
       "4            chr1   ENSMUST00000070533         ENSMUST00000070533.4   \n",
       "\n",
       "   Mouse exon phyloP mean  \n",
       "0                0.230201  \n",
       "1                0.027273  \n",
       "2                0.777432  \n",
       "3                0.778998  \n",
       "4                2.710427  "
      ]
     },
     "execution_count": 11,
     "metadata": {},
     "output_type": "execute_result"
    }
   ],
   "source": [
    "# create data frame with all genes, transcripts, exons, and their phyloP ave\n",
    "mus_gene_mean = {\"Chromosome name\": chrs, \"Transcript stable ID version\": gene, \"Mouse exon phyloP mean\": phyloP}\n",
    "mus_gene_mean_df = pd.DataFrame(mus_gene_mean)\n",
    "mus_gene_mean_df[\"Transcript stable ID\"] = mus_gene_mean_df[\"Transcript stable ID version\"].str.split('.').str[0]\n",
    "mus_gene_mean_df = mus_gene_mean_df[[\"Chromosome name\", \"Transcript stable ID\", \"Transcript stable ID version\", \"Mouse exon phyloP mean\"]]\n",
    "mus_gene_mean_df.head()"
   ]
  },
  {
   "cell_type": "code",
   "execution_count": 12,
   "metadata": {},
   "outputs": [],
   "source": [
    "save = mus_gene_mean_df.to_csv(config[\"PhyloP_mean\"])"
   ]
  }
 ],
 "metadata": {
  "kernelspec": {
   "display_name": "Python 3 (ipykernel)",
   "language": "python",
   "name": "python3"
  },
  "language_info": {
   "codemirror_mode": {
    "name": "ipython",
    "version": 3
   },
   "file_extension": ".py",
   "mimetype": "text/x-python",
   "name": "python",
   "nbconvert_exporter": "python",
   "pygments_lexer": "ipython3",
   "version": "3.9.13"
  }
 },
 "nbformat": 4,
 "nbformat_minor": 4
}
